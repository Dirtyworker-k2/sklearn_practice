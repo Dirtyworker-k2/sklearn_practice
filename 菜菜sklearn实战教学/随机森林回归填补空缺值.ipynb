{
 "cells": [
  {
   "cell_type": "code",
   "execution_count": 9,
   "metadata": {},
   "outputs": [],
   "source": [
    "import numpy as np \n",
    "from scipy.special import comb"
   ]
  },
  {
   "cell_type": "code",
   "execution_count": 10,
   "metadata": {},
   "outputs": [],
   "source": [
    "base_error = np.linspace(0, 1, 20)"
   ]
  },
  {
   "cell_type": "code",
   "execution_count": 11,
   "metadata": {},
   "outputs": [
    {
     "data": {
      "text/plain": [
       "array([0.        , 0.05263158, 0.10526316, 0.15789474, 0.21052632,\n",
       "       0.26315789, 0.31578947, 0.36842105, 0.42105263, 0.47368421,\n",
       "       0.52631579, 0.57894737, 0.63157895, 0.68421053, 0.73684211,\n",
       "       0.78947368, 0.84210526, 0.89473684, 0.94736842, 1.        ])"
      ]
     },
     "execution_count": 11,
     "metadata": {},
     "output_type": "execute_result"
    }
   ],
   "source": [
    "base_error"
   ]
  },
  {
   "cell_type": "code",
   "execution_count": 24,
   "metadata": {},
   "outputs": [],
   "source": [
    "y = []\n",
    "for epsilon in base_error:\n",
    "    # 注意scipy.special.comb的使用方法\n",
    "    ensemble_error = np.array([comb(25, i) * (epsilon ** i) * ((1 - epsilon) ** (25 - i)) for i in range(13, 26)]).sum()\n",
    "    y.append(ensemble_error)"
   ]
  },
  {
   "cell_type": "code",
   "execution_count": 25,
   "metadata": {},
   "outputs": [],
   "source": [
    "import matplotlib.pyplot as plt "
   ]
  },
  {
   "cell_type": "code",
   "execution_count": 26,
   "metadata": {},
   "outputs": [
    {
     "data": {
      "text/plain": [
       "[<matplotlib.lines.Line2D at 0x11e457760>]"
      ]
     },
     "execution_count": 26,
     "metadata": {},
     "output_type": "execute_result"
    },
    {
     "data": {
      "image/png": "[encoded data removed]",
      "text/plain": [
       "<Figure size 432x288 with 1 Axes>"
      ]
     },
     "metadata": {
      "needs_background": "light"
     },
     "output_type": "display_data"
    }
   ],
   "source": [
    "fig, ax = plt.subplots()\n",
    "ax.plot(base_error, base_error, '--')\n",
    "ax.plot(base_error, y, 'o-')"
   ]
  },
  {
   "cell_type": "code",
   "execution_count": 37,
   "metadata": {},
   "outputs": [],
   "source": [
    "from sklearn.datasets import load_boston\n",
    "from sklearn.ensemble import RandomForestRegressor\n",
    "from sklearn.impute import SimpleImputer\n",
    "import pandas as pd"
   ]
  },
  {
   "cell_type": "code",
   "execution_count": 38,
   "metadata": {},
   "outputs": [],
   "source": [
    "boston = load_boston()"
   ]
  },
  {
   "cell_type": "code",
   "execution_count": 39,
   "metadata": {},
   "outputs": [],
   "source": [
    "X_full, y_full = boston.data, boston.target"
   ]
  },
  {
   "cell_type": "code",
   "execution_count": 40,
   "metadata": {},
   "outputs": [],
   "source": [
    "rng = np.random.RandomState(0)"
   ]
  },
  {
   "cell_type": "code",
   "execution_count": 43,
   "metadata": {},
   "outputs": [],
   "source": [
    "missing_rate = 0.5\n",
    "n_samples = X_full.shape[0]\n",
    "n_features = X_full.shape[1]\n",
    "n_missing_samples = int(np.floor(n_samples * missing_rate * n_features))"
   ]
  },
  {
   "cell_type": "code",
   "execution_count": 44,
   "metadata": {},
   "outputs": [],
   "source": [
    "missing_samples = rng.randint(0, n_samples, n_missing_samples)\n",
    "missing_features = rng.randint(0, n_features, n_missing_samples)"
   ]
  },
  {
   "cell_type": "code",
   "execution_count": 45,
   "metadata": {},
   "outputs": [],
   "source": [
    "X_missing = X_full.copy()\n",
    "X_missing[missing_samples, missing_features] = np.nan"
   ]
  },
  {
   "cell_type": "code",
   "execution_count": 46,
   "metadata": {},
   "outputs": [
    {
     "data": {
      "text/plain": [
       "0     200\n",
       "1     193\n",
       "2     189\n",
       "3     196\n",
       "4     202\n",
       "5     206\n",
       "6     214\n",
       "7     182\n",
       "8     199\n",
       "9     200\n",
       "10    206\n",
       "11    211\n",
       "12    203\n",
       "dtype: int64"
      ]
     },
     "execution_count": 46,
     "metadata": {},
     "output_type": "execute_result"
    }
   ],
   "source": [
    "pd.DataFrame(X_missing).isnull().sum()"
   ]
  },
  {
   "cell_type": "code",
   "execution_count": 47,
   "metadata": {},
   "outputs": [],
   "source": [
    "# 用 0 填补空缺值\n",
    "\n",
    "\n",
    "X_missing_0 = X_missing.copy()\n",
    "X_missing_0 = SimpleImputer(missing_values=np.nan, strategy='constant', fill_value=0).fit_transform(X_missing_0)"
   ]
  },
  {
   "cell_type": "code",
   "execution_count": 48,
   "metadata": {},
   "outputs": [
    {
     "data": {
      "text/plain": [
       "0     0\n",
       "1     0\n",
       "2     0\n",
       "3     0\n",
       "4     0\n",
       "5     0\n",
       "6     0\n",
       "7     0\n",
       "8     0\n",
       "9     0\n",
       "10    0\n",
       "11    0\n",
       "12    0\n",
       "dtype: int64"
      ]
     },
     "execution_count": 48,
     "metadata": {},
     "output_type": "execute_result"
    }
   ],
   "source": [
    "pd.DataFrame(X_missing_0).isnull().sum()"
   ]
  },
  {
   "cell_type": "code",
   "execution_count": 50,
   "metadata": {},
   "outputs": [],
   "source": [
    "# 用 平均值 填补空缺值\n",
    "\n",
    "X_missing_mean = X_missing.copy()\n",
    "X_missing_mean = SimpleImputer(missing_values=np.nan, strategy='mean').fit_transform(X_missing_mean)"
   ]
  },
  {
   "cell_type": "code",
   "execution_count": 51,
   "metadata": {},
   "outputs": [
    {
     "data": {
      "text/plain": [
       "0     0\n",
       "1     0\n",
       "2     0\n",
       "3     0\n",
       "4     0\n",
       "5     0\n",
       "6     0\n",
       "7     0\n",
       "8     0\n",
       "9     0\n",
       "10    0\n",
       "11    0\n",
       "12    0\n",
       "dtype: int64"
      ]
     },
     "execution_count": 51,
     "metadata": {},
     "output_type": "execute_result"
    }
   ],
   "source": [
    "pd.DataFrame(X_missing_mean).isnull().sum()"
   ]
  },
  {
   "cell_type": "code",
   "execution_count": 56,
   "metadata": {},
   "outputs": [],
   "source": [
    "# 用 随机森林回归 填补空缺值\n",
    "\n",
    "X_missing_reg = X_missing.copy()\n",
    "X_missing_reg = pd.DataFrame(X_missing_reg)"
   ]
  },
  {
   "cell_type": "code",
   "execution_count": 57,
   "metadata": {},
   "outputs": [],
   "source": [
    "feature_idx = np.argsort(pd.DataFrame(X_missing_reg).isnull().sum())"
   ]
  },
  {
   "cell_type": "code",
   "execution_count": 62,
   "metadata": {},
   "outputs": [],
   "source": [
    "for i in feature_idx:\n",
    "    df = X_missing_reg\n",
    "    # 1\\ 新标签\n",
    "    fillc = df.iloc[:, i]\n",
    "    # 2\\ 新特征矩阵\n",
    "    feature_matrix = pd.concat([df.loc[:, df.columns != i], pd.DataFrame(y_full)], axis=1)\n",
    "    feature_matrix_0 = SimpleImputer(missing_values=np.nan, strategy='constant', fill_value=0).fit_transform(feature_matrix)\n",
    "    # 3\\ 训练集\n",
    "    y_train = fillc.loc[fillc.notnull()]\n",
    "    y_test = fillc.loc[fillc.isnull()]\n",
    "    \n",
    "    X_train = feature_matrix_0[y_train.index, :]\n",
    "    X_test = feature_matrix_0[y_test.index, :]\n",
    "    \n",
    "    # 4\\ 填充fillc\n",
    "    reg = RandomForestRegressor(n_estimators=100)\n",
    "    reg.fit(X_train, y_train)\n",
    "    y_predict = reg.predict(X_test)\n",
    "    X_missing_reg.loc[X_missing_reg.iloc[:, i].isnull(), i] = y_predict "
   ]
  },
  {
   "cell_type": "code",
   "execution_count": 64,
   "metadata": {},
   "outputs": [
    {
     "data": {
      "text/plain": [
       "0     0\n",
       "1     0\n",
       "2     0\n",
       "3     0\n",
       "4     0\n",
       "5     0\n",
       "6     0\n",
       "7     0\n",
       "8     0\n",
       "9     0\n",
       "10    0\n",
       "11    0\n",
       "12    0\n",
       "dtype: int64"
      ]
     },
     "execution_count": 64,
     "metadata": {},
     "output_type": "execute_result"
    }
   ],
   "source": [
    "X_missing_reg.isnull().sum()"
   ]
  },
  {
   "cell_type": "code",
   "execution_count": 65,
   "metadata": {},
   "outputs": [],
   "source": [
    "from sklearn.model_selection import cross_val_score"
   ]
  },
  {
   "cell_type": "code",
   "execution_count": 66,
   "metadata": {},
   "outputs": [
    {
     "data": {
      "text/plain": [
       "[21.998514494777694, 46.95815318344012, 42.112378985245584, 17.297813994428257]"
      ]
     },
     "execution_count": 66,
     "metadata": {},
     "output_type": "execute_result"
    }
   ],
   "source": [
    "X = [X_full, X_missing_0, X_missing_mean, X_missing_reg]\n",
    "mse = []\n",
    "for x in X:\n",
    "    reg = RandomForestRegressor(n_estimators=100)\n",
    "    score = cross_val_score(reg, x, y_full, scoring='neg_mean_squared_error', cv=5).mean()\n",
    "    mse.append(score * (-1))"
   ]
  },
  {
   "cell_type": "code",
   "execution_count": 67,
   "metadata": {},
   "outputs": [
    {
     "data": {
      "text/plain": [
       "[('X_full', 21.998514494777694),\n",
       " ('X_missing_0', 46.95815318344012),\n",
       " ('X_missing_mean', 42.112378985245584),\n",
       " ('X_missing_reg', 17.297813994428257)]"
      ]
     },
     "execution_count": 67,
     "metadata": {},
     "output_type": "execute_result"
    }
   ],
   "source": [
    "# 将 特征矩阵 与其 对应的mse 以元组形式输出\n",
    "\n",
    "[*zip(['X_full', 'X_missing_0', 'X_missing_mean', 'X_missing_reg'], mse)]"
   ]
  },
  {
   "cell_type": "code",
   "execution_count": 74,
   "metadata": {},
   "outputs": [
    {
     "data": {
      "image/png": "[encoded data removed]",
      "text/plain": [
       "<Figure size 432x288 with 1 Axes>"
      ]
     },
     "metadata": {
      "needs_background": "light"
     },
     "output_type": "display_data"
    },
    {
     "data": {
      "image/png": "[encoded data removed]",
      "text/plain": [
       "<Figure size 432x288 with 1 Axes>"
      ]
     },
     "metadata": {
      "needs_background": "light"
     },
     "output_type": "display_data"
    }
   ],
   "source": [
    "fig, ax = plt.subplots()\n",
    "\n",
    "x_labels = ['Full data'\n",
    "           ,'Mean Imputation'\n",
    "           ,'Zero Imputation'\n",
    "           ,'Regressor Imputation']\n",
    "\n",
    "colors = ['r', 'g', 'b', 'orange']\n",
    "\n",
    "fig, ax = plt.subplots()\n",
    "for i in range(len(mse)):\n",
    "    ax.barh(i, mse[i], color=colors[i], alpha=0.5, align='center')\n",
    "\n",
    "ax.set_title('Error of different imputation')\n",
    "ax.set_xlim(left=min(mse) * 0.9, right=max(mse) * 1.1)\n",
    "ax.set_xlabel('MSE')\n",
    "\n",
    "ax.set_yticks(np.arange(len(mse)))\n",
    "ax.set_yticklabels(x_labels)\n",
    "\n",
    "ax.invert_yaxis()"
   ]
  },
  {
   "cell_type": "code",
   "execution_count": null,
   "metadata": {},
   "outputs": [],
   "source": []
  }
 ],
 "metadata": {
  "kernelspec": {
   "display_name": "Python 3",
   "language": "python",
   "name": "python3"
  },
  "language_info": {
   "codemirror_mode": {
    "name": "ipython",
    "version": 3
   },
   "file_extension": ".py",
   "mimetype": "text/x-python",
   "name": "python",
   "nbconvert_exporter": "python",
   "pygments_lexer": "ipython3",
   "version": "3.8.5"
  }
 },
 "nbformat": 4,
 "nbformat_minor": 4
}

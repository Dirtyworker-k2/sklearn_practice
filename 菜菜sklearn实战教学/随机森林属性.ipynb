{
 "cells": [
  {
   "cell_type": "code",
   "execution_count": 14,
   "metadata": {},
   "outputs": [],
   "source": [
    "import numpy as np \n",
    "from scipy.special import comb \n",
    "from sklearn.datasets import load_wine\n",
    "from sklearn.ensemble import RandomForestClassifier\n",
    "from sklearn.model_selection import train_test_split"
   ]
  },
  {
   "cell_type": "code",
   "execution_count": 7,
   "metadata": {},
   "outputs": [
    {
     "data": {
      "text/plain": [
       "0.9962221068137057"
      ]
     },
     "execution_count": 7,
     "metadata": {},
     "output_type": "execute_result"
    }
   ],
   "source": [
    "np.array([comb(25, i) * (0.2 ** i) * (0.8 ** (25-i)) for i in range(1, 26)]).sum()"
   ]
  },
  {
   "cell_type": "code",
   "execution_count": 27,
   "metadata": {},
   "outputs": [],
   "source": [
    "rfc = RandomForestClassifier(random_state=2\n",
    "                            ,n_estimators=25\n",
    "                            , oob_score=True)"
   ]
  },
  {
   "cell_type": "raw",
   "metadata": {},
   "source": [
    "wine = load_wine()"
   ]
  },
  {
   "cell_type": "code",
   "execution_count": 28,
   "metadata": {},
   "outputs": [],
   "source": [
    "wine = load_wine()\n",
    "X = wine.data\n",
    "y = wine.target"
   ]
  },
  {
   "cell_type": "code",
   "execution_count": 29,
   "metadata": {},
   "outputs": [],
   "source": [
    "X_train, X_test, y_train, y_test = train_test_split(X, y, test_size=0.3, random_state=0)"
   ]
  },
  {
   "cell_type": "code",
   "execution_count": 30,
   "metadata": {},
   "outputs": [
    {
     "data": {
      "text/plain": [
       "RandomForestClassifier(n_estimators=25, oob_score=True, random_state=2)"
      ]
     },
     "execution_count": 30,
     "metadata": {},
     "output_type": "execute_result"
    }
   ],
   "source": [
    "rfc.fit(X_train, y_train)"
   ]
  },
  {
   "cell_type": "code",
   "execution_count": 31,
   "metadata": {},
   "outputs": [
    {
     "data": {
      "text/plain": [
       "[DecisionTreeClassifier(max_features='auto', random_state=1872583848),\n",
       " DecisionTreeClassifier(max_features='auto', random_state=794921487),\n",
       " DecisionTreeClassifier(max_features='auto', random_state=111352301),\n",
       " DecisionTreeClassifier(max_features='auto', random_state=1853453896),\n",
       " DecisionTreeClassifier(max_features='auto', random_state=213298710),\n",
       " DecisionTreeClassifier(max_features='auto', random_state=1922988331),\n",
       " DecisionTreeClassifier(max_features='auto', random_state=1869695442),\n",
       " DecisionTreeClassifier(max_features='auto', random_state=2081981515),\n",
       " DecisionTreeClassifier(max_features='auto', random_state=1805465960),\n",
       " DecisionTreeClassifier(max_features='auto', random_state=1376693511),\n",
       " DecisionTreeClassifier(max_features='auto', random_state=1418777250),\n",
       " DecisionTreeClassifier(max_features='auto', random_state=663257521),\n",
       " DecisionTreeClassifier(max_features='auto', random_state=878959199),\n",
       " DecisionTreeClassifier(max_features='auto', random_state=854108747),\n",
       " DecisionTreeClassifier(max_features='auto', random_state=512264917),\n",
       " DecisionTreeClassifier(max_features='auto', random_state=515183663),\n",
       " DecisionTreeClassifier(max_features='auto', random_state=1287007039),\n",
       " DecisionTreeClassifier(max_features='auto', random_state=2083814687),\n",
       " DecisionTreeClassifier(max_features='auto', random_state=1146014426),\n",
       " DecisionTreeClassifier(max_features='auto', random_state=570104212),\n",
       " DecisionTreeClassifier(max_features='auto', random_state=520265852),\n",
       " DecisionTreeClassifier(max_features='auto', random_state=1366773364),\n",
       " DecisionTreeClassifier(max_features='auto', random_state=125164325),\n",
       " DecisionTreeClassifier(max_features='auto', random_state=786090663),\n",
       " DecisionTreeClassifier(max_features='auto', random_state=578016451)]"
      ]
     },
     "execution_count": 31,
     "metadata": {},
     "output_type": "execute_result"
    }
   ],
   "source": [
    "rfc.estimators_"
   ]
  },
  {
   "cell_type": "code",
   "execution_count": 32,
   "metadata": {},
   "outputs": [
    {
     "data": {
      "text/plain": [
       "1872583848"
      ]
     },
     "execution_count": 32,
     "metadata": {},
     "output_type": "execute_result"
    }
   ],
   "source": [
    "rfc.estimators_[0].random_state"
   ]
  },
  {
   "cell_type": "code",
   "execution_count": 33,
   "metadata": {},
   "outputs": [
    {
     "name": "stdout",
     "output_type": "stream",
     "text": [
      "1872583848\n",
      "794921487\n",
      "111352301\n",
      "1853453896\n",
      "213298710\n",
      "1922988331\n",
      "1869695442\n",
      "2081981515\n",
      "1805465960\n",
      "1376693511\n",
      "1418777250\n",
      "663257521\n",
      "878959199\n",
      "854108747\n",
      "512264917\n",
      "515183663\n",
      "1287007039\n",
      "2083814687\n",
      "1146014426\n",
      "570104212\n",
      "520265852\n",
      "1366773364\n",
      "125164325\n",
      "786090663\n",
      "578016451\n"
     ]
    }
   ],
   "source": [
    "for i in range(len(rfc.estimators_)):\n",
    "    print(rfc.estimators_[i].random_state)"
   ]
  },
  {
   "cell_type": "code",
   "execution_count": 34,
   "metadata": {},
   "outputs": [
    {
     "data": {
      "text/plain": [
       "0.9596774193548387"
      ]
     },
     "execution_count": 34,
     "metadata": {},
     "output_type": "execute_result"
    }
   ],
   "source": [
    "rfc.oob_score_"
   ]
  },
  {
   "cell_type": "code",
   "execution_count": 13,
   "metadata": {},
   "outputs": [],
   "source": [
    "import numpy as np\n",
    "from scipy.special import comb \n",
    "import matplotlib.pyplot as plt "
   ]
  },
  {
   "cell_type": "code",
   "execution_count": 15,
   "metadata": {},
   "outputs": [
    {
     "data": {
      "text/plain": [
       "<matplotlib.legend.Legend at 0x117850910>"
      ]
     },
     "execution_count": 15,
     "metadata": {},
     "output_type": "execute_result"
    },
    {
     "data": {
      "image/png": "[encoded data removed]",
      "text/plain": [
       "<Figure size 432x288 with 1 Axes>"
      ]
     },
     "metadata": {
      "needs_background": "light"
     },
     "output_type": "display_data"
    }
   ],
   "source": [
    "x = np.linspace(0, 1, 20)\n",
    "y = []\n",
    "\n",
    "for epsilon in x:\n",
    "    \n",
    "    # 注意 scipy.special.comb的用法\n",
    "    E = np.array([comb(25, i) * (epsilon ** i) * ((1 - epsilon) ** (25 - i)) for i in range(13, 26)]).sum()\n",
    "    y.append(E)\n",
    "\n",
    "fig, ax = plt.subplots()\n",
    "ax.plot(x, x, 'o-', label='if all estimators are same')\n",
    "ax.plot(x, y, '--', label='when estimators are different')\n",
    "ax.set_xlabel('individual estimator error')\n",
    "ax.set_ylabel('random forest error')\n",
    "ax.legend()"
   ]
  },
  {
   "cell_type": "code",
   "execution_count": null,
   "metadata": {},
   "outputs": [],
   "source": []
  },
  {
   "cell_type": "code",
   "execution_count": null,
   "metadata": {},
   "outputs": [],
   "source": []
  }
 ],
 "metadata": {
  "kernelspec": {
   "display_name": "Python 3",
   "language": "python",
   "name": "python3"
  },
  "language_info": {
   "codemirror_mode": {
    "name": "ipython",
    "version": 3
   },
   "file_extension": ".py",
   "mimetype": "text/x-python",
   "name": "python",
   "nbconvert_exporter": "python",
   "pygments_lexer": "ipython3",
   "version": "3.8.5"
  }
 },
 "nbformat": 4,
 "nbformat_minor": 4
}
